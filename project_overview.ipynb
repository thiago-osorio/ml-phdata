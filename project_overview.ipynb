{
 "cells": [
  {
   "cell_type": "markdown",
   "id": "be49b1ad",
   "metadata": {},
   "source": [
    "# Solution Architecture"
   ]
  },
  {
   "cell_type": "markdown",
   "id": "e1fbde39",
   "metadata": {},
   "source": [
    "```\n",
    "                ┌─────────────────┐\n",
    "                │   FastAPI App   │\n",
    "                │  (api/main.py)  │\n",
    "                └─────────────────┘\n",
    "                         │\n",
    "          ┌──────────────┼──────────────┐\n",
    "          ▼              ▼              ▼\n",
    "  ┌─────────────┐ ┌─────────────┐ ┌─────────────┐\n",
    "  │ Prediction  │ │   Model     │ │    Data     │\n",
    "  │  Service    │ │ Management  │ │  Validation │\n",
    "  │(services.py)│ │   Layer     │ │ (models.py) │\n",
    "  └─────────────┘ └─────────────┘ └─────────────┘\n",
    "          │              │              │\n",
    "          └──────────────┼──────────────┘\n",
    "                         ▼\n",
    "                ┌─────────────────┐\n",
    "                │   Data Layer    │\n",
    "                │ (Files & CSVs)  │\n",
    "                └─────────────────┘\n",
    "```"
   ]
  },
  {
   "cell_type": "markdown",
   "id": "12fcc7e3",
   "metadata": {},
   "source": [
    "**File Structure & Responsabilities**\n",
    "\n",
    "```\n",
    "ml-phdata/\n",
    "├── api/                            # Main application package\n",
    "│   ├── __init__.py                 # Package marker\n",
    "│   ├── main.py                     # FastAPI app & endpoints\n",
    "│   ├── models.py                   # Pydantic data models\n",
    "│   ├── services.py                 # Business logic layer\n",
    "│   └── config.py                   # Configuration management\n",
    "├── data/                           # Training data storage\n",
    "│   ├── kc_house_data.csv           # House sales data\n",
    "│   └── zipcode_demographics.csv    # Demographic data\n",
    "├── model/                          # ML model artifacts\n",
    "│   ├── model.pkl                   # Trained model\n",
    "│   ├── model_backup.pkl            # Backup for rollback\n",
    "│   └── model_features.json         # Feature definitions\n",
    "├── create_model.py                 # Initial model training script\n",
    "├── run.py                          # Application entry point\n",
    "├── requirements.txt                # Python dependencies\n",
    "├── Dockerfile                      # Container configuration\n",
    "└── README.md                       # Project documentation\n",
    "```"
   ]
  },
  {
   "cell_type": "markdown",
   "id": "91fb5c85",
   "metadata": {},
   "source": [
    "**1. API Layer (api/main.py)**"
   ]
  },
  {
   "cell_type": "markdown",
   "id": "672307d3",
   "metadata": {},
   "source": [
    "```\n",
    "  ┌─────────────────────────────────────────┐\n",
    "  │              REST Endpoints             │\n",
    "  ├─────────────────────────────────────────┤\n",
    "  │ GET  /features/required                 │\n",
    "  │ POST /predict                           │\n",
    "  │ POST /predict-batch                     │\n",
    "  │ POST /reload-model                      │\n",
    "  │ POST /retrain-model                     │\n",
    "  │ POST /rollback-model                    │\n",
    "  └─────────────────────────────────────────┘\n",
    "\n",
    "  Responsibilities:\n",
    "  - HTTP request/response handling\n",
    "  - Input validation via Pydantic models\n",
    "  - Error handling and status codes\n",
    "  - API documentation (FastAPI auto-generates OpenAPI/Swagger)\n",
    "  - Logging and monitoring hooks\n",
    "```"
   ]
  },
  {
   "cell_type": "markdown",
   "id": "1549c045",
   "metadata": {},
   "source": [
    "**2. Business Logic Layer (api/services.py)**"
   ]
  },
  {
   "cell_type": "markdown",
   "id": "d01da8b3",
   "metadata": {},
   "source": [
    "```\n",
    "  ┌─────────────────────────────────────────┐\n",
    "  │            Service Classes              │\n",
    "  ├─────────────────────────────────────────┤\n",
    "  │ TrainService                            │\n",
    "  │  ├─ Data loading & preprocessing        │\n",
    "  │  ├─ Model training & evaluation         │\n",
    "  │  └─ Model persistence                   │\n",
    "  │                                         │\n",
    "  │ PredictionService                       │\n",
    "  │  ├─ Model loading & caching             │\n",
    "  │  ├─ Feature preprocessing               │\n",
    "  │  ├─ Prediction inference                │\n",
    "  │  ├─ Demographic data joining            │\n",
    "  │  └─ Model lifecycle management          │\n",
    "  └─────────────────────────────────────────┘\n",
    "\n",
    "  Key Design Patterns:\n",
    "  - Service Layer Pattern: Encapsulates business logic\n",
    "  - Singleton Pattern: Global prediction service instance\n",
    "  - Template Method: Common prediction workflow with variations\n",
    "```"
   ]
  },
  {
   "cell_type": "markdown",
   "id": "c1d677d7",
   "metadata": {},
   "source": [
    "**3. Data Model Layer (api/models.py)**"
   ]
  },
  {
   "cell_type": "markdown",
   "id": "1967c662",
   "metadata": {},
   "source": [
    "```\n",
    "  ┌─────────────────────────────────────────┐\n",
    "  │           Pydantic Models               │\n",
    "  ├─────────────────────────────────────────┤\n",
    "  │ Request Models:                         │\n",
    "  │  ├─ PredictionRequest (8 features)      │\n",
    "  │  ├─ MinimalFeatures (planned)           │\n",
    "  │  └─ CompleteFeatures (planned)          │\n",
    "  │                                         │\n",
    "  │ Response Models:                        │\n",
    "  │  ├─ PredictionResponse                  │\n",
    "  │  ├─ BatchPredictionResponse             │\n",
    "  │  └─ RequiredFeaturesResponse            │\n",
    "  │                                         │\n",
    "  │ Metadata Models:                        │\n",
    "  │  └─ PredictionMetadata                  │\n",
    "  └─────────────────────────────────────────┘\n",
    "\n",
    "  Benefits:\n",
    "  - Type Safety: Runtime validation and IDE support\n",
    "  - API Documentation: Auto-generated schemas\n",
    "  - Serialization: JSON conversion handling\n",
    "  - Data Integrity: Field validation and constraints\n",
    "```"
   ]
  },
  {
   "cell_type": "markdown",
   "id": "1ff477a6",
   "metadata": {},
   "source": [
    "**4. Configuration Layer (api/config.py)**"
   ]
  },
  {
   "cell_type": "markdown",
   "id": "d8dbfd85",
   "metadata": {},
   "source": [
    "```\n",
    "  ┌─────────────────────────────────────────┐\n",
    "  │        Configuration Management         │\n",
    "  ├─────────────────────────────────────────┤\n",
    "  │ File Paths:                             │\n",
    "  │  ├─ MODEL_PATH                          │\n",
    "  │  ├─ FEATURES_PATH                       │\n",
    "  │  ├─ ZIPCODE_DATA_PATH                   │\n",
    "  │  └─ SALES_DATA_PATH                     │\n",
    "  │                                         │\n",
    "  │ Application Settings:                   │\n",
    "  │  ├─ SALES_COLUMN_SELECTION              │\n",
    "  │  ├─ TARGET variable                     │\n",
    "  │  ├─ API_TITLE & VERSION                 │\n",
    "  │  └─ Logging configuration               │\n",
    "  └─────────────────────────────────────────┘\n",
    "```"
   ]
  },
  {
   "cell_type": "markdown",
   "id": "3a6ff974",
   "metadata": {},
   "source": [
    "**5. Data Layer**"
   ]
  },
  {
   "cell_type": "markdown",
   "id": "deeff69f",
   "metadata": {},
   "source": [
    "```\n",
    "  ┌─────────────────────────────────────────┐\n",
    "  │              Data Storage               │\n",
    "  ├─────────────────────────────────────────┤\n",
    "  │ ML Artifacts:                           │\n",
    "  │  ├─ model/model.pkl (trained model)     │\n",
    "  │  ├─ model/model_backup.pkl (backup)     │\n",
    "  │  └─ model/model_features.json           │\n",
    "  │                                         │\n",
    "  │ Training Data:                          │\n",
    "  │  ├─ data/kc_house_data.csv              │\n",
    "  │  └─ data/zipcode_demographics.csv       │\n",
    "  └─────────────────────────────────────────┘\n",
    "```"
   ]
  },
  {
   "cell_type": "markdown",
   "id": "e2cb1a23",
   "metadata": {},
   "source": [
    "**6. Docker Usage**\n",
    "\n",
    "- Environment Consistency\n",
    "- Simplified Deployment\n",
    "- Easy Testing and Debugging"
   ]
  },
  {
   "cell_type": "markdown",
   "id": "095bb675",
   "metadata": {},
   "source": [
    "# Current Limitations"
   ]
  },
  {
   "cell_type": "markdown",
   "id": "5f25b5ec",
   "metadata": {},
   "source": [
    "**Single Point of Failure:**  \n",
    "  - The API runs as a single FastAPI instance with a global prediction_service  \n",
    "  - Model is loaded into memory on startup  \n",
    "  - Any restart means service downtime\n",
    "\n",
    "**Memory & Resource Constraints:**\n",
    "  - Each instance loads the full model into memory\n",
    "  - Synchronous processing limits concurrent requests\n",
    "  - File-based model storage creates I/O bottlenecks\n",
    "\n",
    "**Model Management Issues:**\n",
    "  - Model updates require service restart\n",
    "  - No versioning or rollback capabilities during high traffic\n",
    "  - Backup/restore operations are risky in production\n",
    "\n",
    "**Security**\n",
    "  - No authentication/authorization\n",
    "  - No rate limiting\n",
    "  - No metrics/monitoring\n",
    "  - No database connections\n",
    "  - No secrets management"
   ]
  },
  {
   "cell_type": "markdown",
   "id": "7367bcaa",
   "metadata": {},
   "source": [
    "# Scalable Architecture Solutions"
   ]
  },
  {
   "cell_type": "markdown",
   "id": "a5da57dc",
   "metadata": {},
   "source": [
    "- Docker containers for consistent deployment\n",
    "- Kubernetes/Docker Swarm for orchestration\n",
    "- Models stored in object storage (S3, GCS) with versioning\n",
    "- Prediction caching\n",
    "- Replace CSV with proper database"
   ]
  },
  {
   "cell_type": "markdown",
   "id": "66f44434",
   "metadata": {},
   "source": [
    "# Zero-Downtime Scaling Solution"
   ]
  },
  {
   "cell_type": "markdown",
   "id": "e5a57666",
   "metadata": {},
   "source": [
    "1. Keep current version (blue) running\n",
    "2. Deploy new version (green) in parallel\n",
    "3. Gradually shift traffic using load balancer\n",
    "4. Monitor metrics and rollback if needed\n",
    "5. Terminate old version once stable"
   ]
  }
 ],
 "metadata": {
  "language_info": {
   "name": "python"
  }
 },
 "nbformat": 4,
 "nbformat_minor": 5
}
